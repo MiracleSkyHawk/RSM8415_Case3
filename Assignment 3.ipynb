{
 "cells": [
  {
   "cell_type": "code",
   "execution_count": null,
   "id": "0753c1de",
   "metadata": {},
   "outputs": [],
   "source": []
  },
  {
   "cell_type": "code",
   "execution_count": null,
   "id": "565b1103",
   "metadata": {},
   "outputs": [],
   "source": []
  },
  {
   "cell_type": "code",
   "execution_count": null,
   "id": "954e41e7",
   "metadata": {},
   "outputs": [],
   "source": []
  },
  {
   "cell_type": "markdown",
   "id": "510945e4",
   "metadata": {},
   "source": [
    "1. Use a boxplot to show the distribution of assessment scores per training provider (\"B.tpId\" represent the training provider id and  \"AJD.assmtCrt.percentage\"  represents the assessment score).\n",
    "\n",
    "2. Use a stacked bar plot to show the number of FAIL/PASS per training provider (\"AJD.assmtCrt.result\" represents the assessment status which is populated by FAIL/PASS)\n",
    "\n",
    "3. Count the number of unique \"B.sector.name\", \"B.address.district.name\", \"B.batchName\", and \"C.candidateId\" per training provider.\n",
    "\n",
    "4. Calculate the median of assessment score and percentage of candidates who pass the assessment test per training provider.  \n",
    "\n",
    "5. Use the result of question 3 as inputs (4 inputs) and question 4 as outputs (2 outputs) of DEA model parameters. Solve the linear optimization problems per training provider given the set of inputs and output. \n",
    "\n",
    "6. Based on the results, identify low and top-efficient training providers. \n",
    "\n",
    "7. Based on the DEA results, identify different approaches that can be deployed to make the skilling ecosystem more efficient.  "
   ]
  }
 ],
 "metadata": {
  "kernelspec": {
   "display_name": "Python 3 (ipykernel)",
   "language": "python",
   "name": "python3"
  },
  "language_info": {
   "codemirror_mode": {
    "name": "ipython",
    "version": 3
   },
   "file_extension": ".py",
   "mimetype": "text/x-python",
   "name": "python",
   "nbconvert_exporter": "python",
   "pygments_lexer": "ipython3",
   "version": "3.9.12"
  }
 },
 "nbformat": 4,
 "nbformat_minor": 5
}
